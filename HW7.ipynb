{
 "cells": [
  {
   "cell_type": "markdown",
   "metadata": {},
   "source": [
    "# HW 7\n",
    "Name:"
   ]
  },
  {
   "cell_type": "markdown",
   "metadata": {},
   "source": [
    "In class I showed how to curl the data from the web. We are going to start by using python requests to do the same."
   ]
  },
  {
   "cell_type": "code",
   "execution_count": null,
   "metadata": {},
   "outputs": [],
   "source": [
    "# Here is the link to gutenbegers Treasure Island\n",
    "# https://gutenberg.org/cache/epub/120/pg120.txt\n",
    "\n",
    "# use python requests to get the text from the url and save it to a variable called book\n",
    "# first you will need to import requests (you might need to install it first with pip)\n",
    "\n",
    "\n",
    "\n",
    "\n",
    "# print the status code to make sure it was successful (200)\n",
    "\n",
    "\n",
    "\n",
    "# Save the test to a file called treasure_island.txt\n",
    "# Hint: you can use the open() function to create a new file and write to it with the write() method\n",
    "# Hint 2: you can use book.text to get the text from the request\n",
    "\n",
    "\n",
    "# If all was successful you should have a new file in the same directory called treasure_island.txt"
   ]
  },
  {
   "cell_type": "markdown",
   "metadata": {},
   "source": [
    "Lets do some cleaning of the data like we did in class to get rid of the header and footer."
   ]
  },
  {
   "cell_type": "code",
   "execution_count": null,
   "metadata": {},
   "outputs": [],
   "source": [
    "# first import the treasure_island.txt file using the open() function and save it to a variable called text\n",
    "\n",
    "    \n",
    "# print the first 1000 characters of the book to make sure it was imported correctly (using string splicing)\n",
    "# print(text[:1000])\n",
    "\n",
    "# notice the *** START OF THE PROJECT GUTENBERG EBOOK TREASURE ISLAND ***\n",
    "# the US version of guttenberg books have this *** START OF THE PROJECT GUTENBERG EBOOK {bookname} *** at the beginning \n",
    "# They also have *** END OF THE PROJECT GUTENBERG EBOOK {bookname}*** at the end\n",
    "# using this information find the index of the start and end of the book and save the text between them to a new variable\n",
    "# Hint: you can use the find() method to find the index of a string within another string\n",
    "# Hint 2: you can use string splicing to get the text between two indexes\n",
    "\n",
    "\n"
   ]
  },
  {
   "cell_type": "code",
   "execution_count": null,
   "metadata": {},
   "outputs": [],
   "source": [
    "# print the first 1000 characters of the book_text to make sure you have the correct text\n"
   ]
  },
  {
   "cell_type": "code",
   "execution_count": null,
   "metadata": {},
   "outputs": [],
   "source": [
    "# Were close but we need the remove the table of contents at the beginning of the book. Right after the table of contents \n",
    "# you will see \"PART ONE--The Old Buccaneer\" you can use that to find the start of the book\n",
    "# find the index of \"PART ONE--The Old Buccaneer\" and save the text from that index to the end of the book to a new variable\n",
    "# Hint: you can use the find() method to find the index of a string within another string\n",
    "# Hint 2: The end of the book is already defined by the *** END OF THE PROJECT GUTENBERG EBOOK TREASURE ISLAND *** variable \n",
    "# Hint 3: you can use string splicing to get the text between two indexes\n",
    "\n",
    "\n",
    "\n",
    "\n",
    "# print the first 1000 characters of the text to make sure you have the correct text\n"
   ]
  },
  {
   "cell_type": "code",
   "execution_count": null,
   "metadata": {},
   "outputs": [],
   "source": [
    "# For the final step lets make sure the text is in lowercase and remove all the new line characters (\\n)\n",
    "# save the final text to a variable called clean_text\n",
    "# Hint: you can use the replace() method to remove characters from a string\n",
    "# Hint 2: you can use the lower() method to make all the characters in a string lowercase\n",
    "# Hint 3: you can combine the replace() and lower() methods to remove all the new line characters and make the text lowercase\n",
    "\n"
   ]
  },
  {
   "cell_type": "markdown",
   "metadata": {},
   "source": [
    "At this point you should have the full clean text of the book without the table of contents at the beginning and the end of the book. Lets now do some analysis of the text."
   ]
  },
  {
   "cell_type": "code",
   "execution_count": null,
   "metadata": {},
   "outputs": [],
   "source": [
    "# Show how many times the word \"treasure\" is used in the book\n",
    "\n",
    "\n",
    "# Show how many times the word \"island\" is used in the book\n",
    "\n"
   ]
  },
  {
   "cell_type": "code",
   "execution_count": null,
   "metadata": {},
   "outputs": [],
   "source": [
    "# What is the total number of words in Chapter xii? Remember we did a lower case on the text so you will need to search for chapter xii not XII \n",
    "# Hint: To get just the text from Chapter xiiiyou can use slicing between the start and end of the chapter\n",
    "# Hint 2: To find the start of Chapter xiiiyou can use the find() method to find the index of the chapter title\n",
    "# Hint 3: To find the end of Chapter xiiiyou can use the find() method to find the index of the next chapter title (xiii)\n",
    "# Hint 4: You can use the split() method to get a list of all the words in the chapter\n",
    "# Hint 5: You can use the len() method to get the total number of words in the chapter\n",
    "\n"
   ]
  },
  {
   "cell_type": "code",
   "execution_count": null,
   "metadata": {},
   "outputs": [],
   "source": [
    "# EXTRA CREDIT\n",
    "# Find the total number of unique words in the chapter\n",
    "\n",
    "\n"
   ]
  }
 ],
 "metadata": {
  "kernelspec": {
   "display_name": "venv",
   "language": "python",
   "name": "python3"
  },
  "language_info": {
   "codemirror_mode": {
    "name": "ipython",
    "version": 3
   },
   "file_extension": ".py",
   "mimetype": "text/x-python",
   "name": "python",
   "nbconvert_exporter": "python",
   "pygments_lexer": "ipython3",
   "version": "3.12.2"
  }
 },
 "nbformat": 4,
 "nbformat_minor": 2
}
