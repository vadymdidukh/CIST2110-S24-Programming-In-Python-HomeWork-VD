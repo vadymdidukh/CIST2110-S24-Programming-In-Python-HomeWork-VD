{
 "cells": [
  {
   "cell_type": "markdown",
   "metadata": {},
   "source": [
    "# HW 7\n",
    "Name: Vadym Didukh"
   ]
  },
  {
   "cell_type": "markdown",
   "metadata": {},
   "source": [
    "In class I showed how to curl the data from the web. We are going to start by using python requests to do the same."
   ]
  },
  {
   "cell_type": "code",
   "execution_count": 3,
   "metadata": {},
   "outputs": [
    {
     "name": "stdout",
     "output_type": "stream",
     "text": [
      "200\n"
     ]
    }
   ],
   "source": [
    "# Here is the link to gutenbegers Treasure Island\n",
    "# https://gutenberg.org/cache/epub/120/pg120.txt\n",
    "\n",
    "# use python requests to get the text from the url and save it to a variable called book\n",
    "# first you will need to import requests (you might need to install it first with pip)\n",
    "import requests\n",
    "url = \"https://gutenberg.org/cache/epub/120/pg120.txt\"\n",
    "book = requests.get(url)\n",
    "\n",
    "# print the status code to make sure it was successful (200)\n",
    "print(book.status_code)\n",
    "\n",
    "# Save the test to a file called treasure_island.txt\n",
    "# Hint: you can use the open() function to create a new file and write to it with the write() method\n",
    "# Hint 2: you can use book.text to get the text from the request \n",
    "   \n",
    "with open(\"treasure_island.txt\", \"w\", encoding=\"utf-8\") as file:\n",
    "    file.write(book.text)\n",
    "# If all was successful you should have a new file in the same directory called treasure_island.txt\n"
   ]
  },
  {
   "cell_type": "markdown",
   "metadata": {},
   "source": [
    "Lets do some cleaning of the data like we did in class to get rid of the header and footer."
   ]
  },
  {
   "cell_type": "code",
   "execution_count": 5,
   "metadata": {},
   "outputs": [
    {
     "name": "stdout",
     "output_type": "stream",
     "text": [
      "The Project Gutenberg eBook of Treasure Island\n",
      "\n",
      "    \n",
      "\n",
      "This ebook is for the use of anyone anywhere in the United States and\n",
      "\n",
      "most other parts of the world at no cost and with almost no restrictions\n",
      "\n",
      "whatsoever. You may copy it, give it away or re-use it under the terms\n",
      "\n",
      "of the Project Gutenberg License included with this ebook or online\n",
      "\n",
      "at www.gutenberg.org. If you are not located in the United States,\n",
      "\n",
      "you will have to check the laws of the country where you are located\n",
      "\n",
      "before using this eBook.\n",
      "\n",
      "\n",
      "\n",
      "Title: Treasure Island\n",
      "\n",
      "\n",
      "\n",
      "Author: Robert Louis Stevenson\n",
      "\n",
      "\n",
      "\n",
      "Illustrator: Louis Rhead\n",
      "\n",
      "\n",
      "\n",
      "Release date: February 26, 2006 [eBook #120]\n",
      "\n",
      "                Most recently updated: March 21, 2024\n",
      "\n",
      "\n",
      "\n",
      "Language: English\n",
      "\n",
      "\n",
      "\n",
      "\n",
      "\n",
      "\n",
      "\n",
      "*** START OF THE PROJECT GUTENBERG EBOOK TREASURE ISLAND ***\n",
      "\n",
      "TREASURE ISLAND\n",
      "\n",
      "\n",
      "\n",
      "by Robert Louis Stevenson\n",
      "\n",
      "\n",
      "\n",
      "\n",
      "\n",
      "\n",
      "\n",
      "\n",
      "\n",
      "TREASURE ISLAND\n",
      "\n",
      "\n",
      "\n",
      "To S.L.O., an American gentleman in accordance with whose classic taste\n",
      "\n",
      "the following narrative has been designed, it is now, in return for\n",
      "\n",
      "\n"
     ]
    }
   ],
   "source": [
    "# first import the treasure_island.txt file using the open() function and save it to a variable called text\n",
    "with open(\"treasure_island.txt\", \"r\", encoding=\"utf-8\") as file:\n",
    "    text = file.read()\n",
    "# print the first 1000 characters of the book to make sure it was imported correctly (using string splicing)\n",
    "print(text[: 1000])\n",
    "# notice the *** START OF THE PROJECT GUTENBERG EBOOK TREASURE ISLAND ***\n",
    "# the US version of guttenberg books have this *** START OF THE PROJECT GUTENBERG EBOOK {bookname} *** at the beginning \n",
    "# They also have *** END OF THE PROJECT GUTENBERG EBOOK {bookname}*** at the end\n",
    "# using this information find the index of the start and end of the book and save the text between them to a new variable\n",
    "# Hint: you can use the find() method to find the index of a string within another string\n",
    "# Hint 2: you can use string splicing to get the text between two indexes\n",
    "\n",
    "start = text.find(\"*** START OF THE PROJECT GUTENBERG EBOOK TREASURE ISLAND ***\")\n",
    "end = text.find(\"*** END OF THE PROJECT GUTENBERG EBOOK TREASURE ISLAND ***\")\n",
    "book_text = text[start:end]"
   ]
  },
  {
   "cell_type": "code",
   "execution_count": 5,
   "metadata": {},
   "outputs": [
    {
     "name": "stdout",
     "output_type": "stream",
     "text": [
      "*** START OF THE PROJECT GUTENBERG EBOOK TREASURE ISLAND ***\n",
      "\n",
      "TREASURE ISLAND\n",
      "\n",
      "\n",
      "\n",
      "by Robert Louis Stevenson\n",
      "\n",
      "\n",
      "\n",
      "\n",
      "\n",
      "\n",
      "\n",
      "\n",
      "\n",
      "TREASURE ISLAND\n",
      "\n",
      "\n",
      "\n",
      "To S.L.O., an American gentleman in accordance with whose classic taste\n",
      "\n",
      "the following narrative has been designed, it is now, in return for\n",
      "\n",
      "numerous delightful hours, and with the kindest wishes, dedicated by his\n",
      "\n",
      "affectionate friend, the author.\n",
      "\n",
      "\n",
      "\n",
      "\n",
      "\n",
      "\n",
      "\n",
      "               TO THE HESITATING PURCHASER\n",
      "\n",
      "\n",
      "\n",
      "               If sailor tales to sailor tunes,\n",
      "\n",
      "                  Storm and adventure, heat and cold,\n",
      "\n",
      "               If schooners, islands, and maroons,\n",
      "\n",
      "                  And buccaneers, and buried gold,\n",
      "\n",
      "               And all the old romance, retold\n",
      "\n",
      "                  Exactly in the ancient way,\n",
      "\n",
      "               Can please, as me they pleased of old,\n",
      "\n",
      "                  The wiser youngsters of today:\n",
      "\n",
      "\n",
      "\n",
      "               --So be it, and fall on!  If not,\n",
      "\n",
      "                  If studious youth no longer crave,\n",
      "\n",
      "               His ancient appetites forgot,\n",
      "\n",
      "   \n"
     ]
    }
   ],
   "source": [
    "# print the first 1000 characters of the book_text to make sure you have the correct text\n",
    "print(book_text[:1000])"
   ]
  },
  {
   "cell_type": "code",
   "execution_count": 6,
   "metadata": {},
   "outputs": [
    {
     "name": "stdout",
     "output_type": "stream",
     "text": [
      "PART ONE--The Old Buccaneer\n",
      "\n",
      "\n",
      "\n",
      "\n",
      "\n",
      "\n",
      "\n",
      "\n",
      "\n",
      "I\n",
      "\n",
      "The Old Sea-dog at the Admiral Benbow\n",
      "\n",
      "\n",
      "\n",
      "\n",
      "\n",
      "Squire Trelawney, Dr. Livesey, and the rest of these gentlemen having\n",
      "\n",
      "asked me to write down the whole particulars about Treasure Island, from\n",
      "\n",
      "the beginning to the end, keeping nothing back but the bearings of the\n",
      "\n",
      "island, and that only because there is still treasure not yet lifted, I\n",
      "\n",
      "take up my pen in the year of grace 17—, and go back to the time when\n",
      "\n",
      "my father kept the Admiral Benbow inn and the brown old seaman with the\n",
      "\n",
      "sabre cut first took up his lodging under our roof.\n",
      "\n",
      "\n",
      "\n",
      "I remember him as if it were yesterday, as he came plodding to the\n",
      "\n",
      "inn door, his sea-chest following behind him in a hand-barrow--a\n",
      "\n",
      "tall, strong, heavy, nut-brown man, his tarry pigtail falling over the\n",
      "\n",
      "shoulder of his soiled blue coat, his hands ragged and scarred, with\n",
      "\n",
      "black, broken nails, and the sabre cut across one cheek, a dirty, livid\n",
      "\n",
      "white. I remember him looking round the cove and whistling to himself\n",
      "\n",
      "as he di\n"
     ]
    }
   ],
   "source": [
    "# Were close but we need the remove the table of contents at the beginning of the book. Right after the table of contents \n",
    "# you will see \"PART ONE--The Old Buccaneer\" you can use that to find the start of the book\n",
    "# find the index of \"PART ONE--The Old Buccaneer\" and save the text from that index to the end of the book to a new variable\n",
    "# Hint: you can use the find() method to find the index of a string within another string\n",
    "# Hint 2: The end of the book is already defined by the *** END OF THE PROJECT GUTENBERG EBOOK TREASURE ISLAND *** variable \n",
    "# Hint 3: you can use string splicing to get the text between two indexes\n",
    "start= text.find(\"PART ONE--The Old Buccaneer\")\n",
    "book_text = text[start:]\n",
    "\n",
    "# print the first 1000 characters of the text to make sure you have the correct text\n",
    "print(book_text[:1000])\n"
   ]
  },
  {
   "cell_type": "code",
   "execution_count": 8,
   "metadata": {},
   "outputs": [
    {
     "name": "stdout",
     "output_type": "stream",
     "text": [
      "part one--the old buccaneerithe old sea-dog at the admiral benbowsquire trelawney, dr. livesey, and the rest of these gentlemen havingasked me to write down the whole particulars about treasure island, fromthe beginning to the end, keeping nothing back but the bearings of theisland, and that only because there is still treasure not yet lifted, itake up my pen in the year of grace 17—, and go back to the time whenmy father kept the admiral benbow inn and the brown old seaman with thesabre cut first took up his lodging under our roof.i remember him as if it were yesterday, as he came plodding to theinn door, his sea-chest following behind him in a hand-barrow--atall, strong, heavy, nut-brown man, his tarry pigtail falling over theshoulder of his soiled blue coat, his hands ragged and scarred, withblack, broken nails, and the sabre cut across one cheek, a dirty, lividwhite. i remember him looking round the cove and whistling to himselfas he did so, and then breaking out in that old sea-so\n"
     ]
    }
   ],
   "source": [
    "# For the final step lets make sure the text is in lowercase and remove all the new line characters (\\n)\n",
    "# save the final text to a variable called clean_text\n",
    "# Hint: you can use the replace() method to remove characters from a string\n",
    "# Hint 2: you can use the lower() method to make all the characters in a string lowercase\n",
    "# Hint 3: you can combine the replace() and lower() methods to remove all the new line characters and make the text lowercase\n",
    "\n",
    "clean_text = book_text.replace('\\n', '').lower()\n",
    "\n",
    "print(clean_text[:1000])"
   ]
  },
  {
   "cell_type": "markdown",
   "metadata": {},
   "source": [
    "At this point you should have the full clean text of the book without the table of contents at the beginning and the end of the book. Lets now do some analysis of the text."
   ]
  },
  {
   "cell_type": "code",
   "execution_count": 9,
   "metadata": {},
   "outputs": [
    {
     "name": "stdout",
     "output_type": "stream",
     "text": [
      "The word treasure is used 59 times in the book.\n",
      "The word island is used 83 times in the book.\n"
     ]
    }
   ],
   "source": [
    "# Show how many times the word \"treasure\" is used in the book\n",
    "treasure_count = clean_text.count(\"treasure\")\n",
    "print(\"The word treasure is used\", treasure_count, \"times in the book.\")\n",
    "# Show how many times the word \"island\" is used in the book\n",
    "island_count = clean_text.count(\"island\")\n",
    "print(\"The word island is used\", island_count, \"times in the book.\")\n"
   ]
  },
  {
   "cell_type": "code",
   "execution_count": 10,
   "metadata": {},
   "outputs": [
    {
     "name": "stdout",
     "output_type": "stream",
     "text": [
      "Total number of words in Chapter xii: 0\n"
     ]
    }
   ],
   "source": [
    "# What is the total number of words in Chapter xii? Remember we did a lower case on the text so you will need to search for chapter xii not XII \n",
    "# Hint: To get just the text from Chapter xii you can use slicing between the start and end of the chapter\n",
    "# Hint 2: To find the start of Chapter xii you can use the find() method to find the index of the chapter title\n",
    "# Hint 3: To find the end of Chapter xii you can use the find() method to find the index of the next chapter title (xiii)\n",
    "# Hint 4: You can use the split() method to get a list of all the words in the chapter\n",
    "# Hint 5: You can use the len() method to get the total number of words in the chapter\n",
    "\n",
    "start = clean_text.find(\"chapter xii\")\n",
    "end = clean_text.find(\"chapter xiii\")\n",
    "\n",
    "chapter_xii_text = clean_text[start:end]\n",
    "chapter_xii_words = chapter_xii_text.split()\n",
    "total_words_in_chapter_xii = len(chapter_xii_words)\n",
    "print(\"Total number of words in Chapter xii:\", total_words_in_chapter_xii)\n",
    "\n"
   ]
  },
  {
   "cell_type": "code",
   "execution_count": 11,
   "metadata": {},
   "outputs": [
    {
     "name": "stdout",
     "output_type": "stream",
     "text": [
      "Total number of unique words in Chapter XII: 0\n"
     ]
    }
   ],
   "source": [
    "# EXTRA CREDIT\n",
    "# Find the total number of unique words in the chapter\n",
    "words_in_chapter_xii = chapter_xii_text.split()\n",
    "unique_words = set(words_in_chapter_xii)\n",
    "total_unique_words = len(unique_words)\n",
    "\n",
    "print(\"Total number of unique words in Chapter XII:\", total_unique_words)"
   ]
  }
 ],
 "metadata": {
  "kernelspec": {
   "display_name": "venv",
   "language": "python",
   "name": "python3"
  },
  "language_info": {
   "codemirror_mode": {
    "name": "ipython",
    "version": 3
   },
   "file_extension": ".py",
   "mimetype": "text/x-python",
   "name": "python",
   "nbconvert_exporter": "python",
   "pygments_lexer": "ipython3",
   "version": "3.12.3"
  }
 },
 "nbformat": 4,
 "nbformat_minor": 2
}
